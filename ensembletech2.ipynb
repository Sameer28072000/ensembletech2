{
 "cells": [
  {
   "cell_type": "markdown",
   "id": "4694b229-f2df-4108-b3ed-61f822631a0a",
   "metadata": {},
   "source": [
    "Q1. How does bagging reduce overfitting in decision trees?"
   ]
  },
  {
   "cell_type": "code",
   "execution_count": null,
   "id": "923973a3-2200-4891-b8a5-66cecb434542",
   "metadata": {},
   "outputs": [],
   "source": [
    "Ans:-Bagging is the techinique of ensemble technique to reduce overfitting.\n",
    "      i.bootstrap sampling\n",
    "       ii.Aggregation\n",
    "        iii.out-of-bag(OOB)"
   ]
  },
  {
   "cell_type": "markdown",
   "id": "eca63cdb-463e-4e01-b4c0-0044ca5a425f",
   "metadata": {},
   "source": [
    "Q2. What are the advantages and disadvantages of using different types of base learners in bagging?"
   ]
  },
  {
   "cell_type": "code",
   "execution_count": null,
   "id": "22ebe740-0936-4299-a7c8-82d44d834e5a",
   "metadata": {},
   "outputs": [],
   "source": [
    "Ans:- Advantages  of base learners in bagging:-\n",
    "       i.error reduction\n",
    "        ii.improved stability\n",
    "        \n",
    "        Disadvantages  of base learners in bagging:-\n",
    "           i.Complexity\n",
    "            ii.Interpretability"
   ]
  },
  {
   "cell_type": "markdown",
   "id": "cab2ac7a-99d9-40ee-b760-757a473e798c",
   "metadata": {},
   "source": [
    "Q3. How does the choice of base learner affect the bias-variance tradeoff in bagging?"
   ]
  },
  {
   "cell_type": "code",
   "execution_count": null,
   "id": "e9867ea7-e3ed-4b73-9cb1-c9ab97984c50",
   "metadata": {},
   "outputs": [],
   "source": [
    "Ans:-\n",
    "      Bias--->Training data\n",
    "       variance---->Testing data\n",
    "         \n",
    "        combining the multiple base learner with different levels of bias & variance\n",
    "         bagging can strike between bias & variance.overall performance improved."
   ]
  },
  {
   "cell_type": "markdown",
   "id": "2634d34f-e0c9-403f-85b1-0bfb9dee9505",
   "metadata": {},
   "source": [
    "Q4. Can bagging be used for both classification and regression tasks? How does it differ in each case?"
   ]
  },
  {
   "cell_type": "code",
   "execution_count": null,
   "id": "28915518-5308-4117-92ae-1505f5f1ec40",
   "metadata": {},
   "outputs": [],
   "source": [
    "Ans:-Yes,bagging is used for both classification and regression tasks.\n",
    "      In classification bagging is involved of collection of base classifier.\n",
    "     whereas In regreesion bagging is invoved of aggregating bootstrap."
   ]
  },
  {
   "cell_type": "markdown",
   "id": "c2a87e65-0590-4950-81a2-d0d8f5020859",
   "metadata": {},
   "source": [
    "Q5. What is the role of ensemble size in bagging? How many models should be included in the ensemble?"
   ]
  },
  {
   "cell_type": "code",
   "execution_count": null,
   "id": "b734c123-2efe-47d4-92ca-603a5cb70d27",
   "metadata": {},
   "outputs": [],
   "source": [
    "Ans:-The ensemble size also known as no.of models or base learner in bagging.\n",
    "     The role of ensemble size in bagging:-\n",
    "       i.reduction of variance\n",
    "        ii.bias-variance tradeoff\n",
    "         "
   ]
  },
  {
   "cell_type": "markdown",
   "id": "248e4c53-82fb-4ebb-bfd4-55ceaabf2591",
   "metadata": {},
   "source": [
    "Q6. Can you provide an example of a real-world application of bagging in machine learning?"
   ]
  },
  {
   "cell_type": "code",
   "execution_count": null,
   "id": "69fbf03a-6938-4e0b-b8d3-e85580f2a328",
   "metadata": {},
   "outputs": [],
   "source": [
    "Ans:-Real-world application of bagging in machine learning is in the field of finance,stock market prediction."
   ]
  }
 ],
 "metadata": {
  "kernelspec": {
   "display_name": "Python 3 (ipykernel)",
   "language": "python",
   "name": "python3"
  },
  "language_info": {
   "codemirror_mode": {
    "name": "ipython",
    "version": 3
   },
   "file_extension": ".py",
   "mimetype": "text/x-python",
   "name": "python",
   "nbconvert_exporter": "python",
   "pygments_lexer": "ipython3",
   "version": "3.10.8"
  }
 },
 "nbformat": 4,
 "nbformat_minor": 5
}
